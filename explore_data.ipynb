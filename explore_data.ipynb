{
 "cells": [
  {
   "cell_type": "code",
   "execution_count": 1,
   "id": "b116c8bf-39a6-4c81-83a8-1a9b8f66d8de",
   "metadata": {},
   "outputs": [],
   "source": [
    "import pandas as pd\n",
    "import numpy as np"
   ]
  },
  {
   "cell_type": "code",
   "execution_count": 2,
   "id": "755fdfc7-4689-4bfa-9721-7f4f44f0b6d1",
   "metadata": {},
   "outputs": [
    {
     "data": {
      "text/html": [
       "<div>\n",
       "<style scoped>\n",
       "    .dataframe tbody tr th:only-of-type {\n",
       "        vertical-align: middle;\n",
       "    }\n",
       "\n",
       "    .dataframe tbody tr th {\n",
       "        vertical-align: top;\n",
       "    }\n",
       "\n",
       "    .dataframe thead th {\n",
       "        text-align: right;\n",
       "    }\n",
       "</style>\n",
       "<table border=\"1\" class=\"dataframe\">\n",
       "  <thead>\n",
       "    <tr style=\"text-align: right;\">\n",
       "      <th></th>\n",
       "      <th>Flow.ID</th>\n",
       "      <th>Source.IP</th>\n",
       "      <th>Source.Port</th>\n",
       "      <th>Destination.IP</th>\n",
       "      <th>Destination.Port</th>\n",
       "      <th>Protocol</th>\n",
       "      <th>Timestamp</th>\n",
       "      <th>Flow.Duration</th>\n",
       "      <th>Total.Fwd.Packets</th>\n",
       "      <th>Total.Backward.Packets</th>\n",
       "      <th>...</th>\n",
       "      <th>Active.Std</th>\n",
       "      <th>Active.Max</th>\n",
       "      <th>Active.Min</th>\n",
       "      <th>Idle.Mean</th>\n",
       "      <th>Idle.Std</th>\n",
       "      <th>Idle.Max</th>\n",
       "      <th>Idle.Min</th>\n",
       "      <th>Label</th>\n",
       "      <th>L7Protocol</th>\n",
       "      <th>ProtocolName</th>\n",
       "    </tr>\n",
       "  </thead>\n",
       "  <tbody>\n",
       "    <tr>\n",
       "      <th>0</th>\n",
       "      <td>172.19.1.46-10.200.7.7-52422-3128-6</td>\n",
       "      <td>172.19.1.46</td>\n",
       "      <td>52422</td>\n",
       "      <td>10.200.7.7</td>\n",
       "      <td>3128</td>\n",
       "      <td>6</td>\n",
       "      <td>26/04/201711:11:17</td>\n",
       "      <td>45523</td>\n",
       "      <td>22</td>\n",
       "      <td>55</td>\n",
       "      <td>...</td>\n",
       "      <td>0.0</td>\n",
       "      <td>0</td>\n",
       "      <td>0</td>\n",
       "      <td>0.0</td>\n",
       "      <td>0.0</td>\n",
       "      <td>0</td>\n",
       "      <td>0</td>\n",
       "      <td>BENIGN</td>\n",
       "      <td>131</td>\n",
       "      <td>HTTP_PROXY</td>\n",
       "    </tr>\n",
       "    <tr>\n",
       "      <th>1</th>\n",
       "      <td>172.19.1.46-10.200.7.7-52422-3128-6</td>\n",
       "      <td>10.200.7.7</td>\n",
       "      <td>3128</td>\n",
       "      <td>172.19.1.46</td>\n",
       "      <td>52422</td>\n",
       "      <td>6</td>\n",
       "      <td>26/04/201711:11:17</td>\n",
       "      <td>1</td>\n",
       "      <td>2</td>\n",
       "      <td>0</td>\n",
       "      <td>...</td>\n",
       "      <td>0.0</td>\n",
       "      <td>0</td>\n",
       "      <td>0</td>\n",
       "      <td>0.0</td>\n",
       "      <td>0.0</td>\n",
       "      <td>0</td>\n",
       "      <td>0</td>\n",
       "      <td>BENIGN</td>\n",
       "      <td>131</td>\n",
       "      <td>HTTP_PROXY</td>\n",
       "    </tr>\n",
       "    <tr>\n",
       "      <th>2</th>\n",
       "      <td>10.200.7.217-50.31.185.39-38848-80-6</td>\n",
       "      <td>50.31.185.39</td>\n",
       "      <td>80</td>\n",
       "      <td>10.200.7.217</td>\n",
       "      <td>38848</td>\n",
       "      <td>6</td>\n",
       "      <td>26/04/201711:11:17</td>\n",
       "      <td>1</td>\n",
       "      <td>3</td>\n",
       "      <td>0</td>\n",
       "      <td>...</td>\n",
       "      <td>0.0</td>\n",
       "      <td>0</td>\n",
       "      <td>0</td>\n",
       "      <td>0.0</td>\n",
       "      <td>0.0</td>\n",
       "      <td>0</td>\n",
       "      <td>0</td>\n",
       "      <td>BENIGN</td>\n",
       "      <td>7</td>\n",
       "      <td>HTTP</td>\n",
       "    </tr>\n",
       "    <tr>\n",
       "      <th>3</th>\n",
       "      <td>10.200.7.217-50.31.185.39-38848-80-6</td>\n",
       "      <td>50.31.185.39</td>\n",
       "      <td>80</td>\n",
       "      <td>10.200.7.217</td>\n",
       "      <td>38848</td>\n",
       "      <td>6</td>\n",
       "      <td>26/04/201711:11:17</td>\n",
       "      <td>217</td>\n",
       "      <td>1</td>\n",
       "      <td>3</td>\n",
       "      <td>...</td>\n",
       "      <td>0.0</td>\n",
       "      <td>0</td>\n",
       "      <td>0</td>\n",
       "      <td>0.0</td>\n",
       "      <td>0.0</td>\n",
       "      <td>0</td>\n",
       "      <td>0</td>\n",
       "      <td>BENIGN</td>\n",
       "      <td>7</td>\n",
       "      <td>HTTP</td>\n",
       "    </tr>\n",
       "    <tr>\n",
       "      <th>4</th>\n",
       "      <td>192.168.72.43-10.200.7.7-55961-3128-6</td>\n",
       "      <td>192.168.72.43</td>\n",
       "      <td>55961</td>\n",
       "      <td>10.200.7.7</td>\n",
       "      <td>3128</td>\n",
       "      <td>6</td>\n",
       "      <td>26/04/201711:11:17</td>\n",
       "      <td>78068</td>\n",
       "      <td>5</td>\n",
       "      <td>0</td>\n",
       "      <td>...</td>\n",
       "      <td>0.0</td>\n",
       "      <td>0</td>\n",
       "      <td>0</td>\n",
       "      <td>0.0</td>\n",
       "      <td>0.0</td>\n",
       "      <td>0</td>\n",
       "      <td>0</td>\n",
       "      <td>BENIGN</td>\n",
       "      <td>131</td>\n",
       "      <td>HTTP_PROXY</td>\n",
       "    </tr>\n",
       "  </tbody>\n",
       "</table>\n",
       "<p>5 rows × 87 columns</p>\n",
       "</div>"
      ],
      "text/plain": [
       "                                 Flow.ID      Source.IP  Source.Port  \\\n",
       "0    172.19.1.46-10.200.7.7-52422-3128-6    172.19.1.46        52422   \n",
       "1    172.19.1.46-10.200.7.7-52422-3128-6     10.200.7.7         3128   \n",
       "2   10.200.7.217-50.31.185.39-38848-80-6   50.31.185.39           80   \n",
       "3   10.200.7.217-50.31.185.39-38848-80-6   50.31.185.39           80   \n",
       "4  192.168.72.43-10.200.7.7-55961-3128-6  192.168.72.43        55961   \n",
       "\n",
       "  Destination.IP  Destination.Port  Protocol           Timestamp  \\\n",
       "0     10.200.7.7              3128         6  26/04/201711:11:17   \n",
       "1    172.19.1.46             52422         6  26/04/201711:11:17   \n",
       "2   10.200.7.217             38848         6  26/04/201711:11:17   \n",
       "3   10.200.7.217             38848         6  26/04/201711:11:17   \n",
       "4     10.200.7.7              3128         6  26/04/201711:11:17   \n",
       "\n",
       "   Flow.Duration  Total.Fwd.Packets  Total.Backward.Packets  ...  Active.Std  \\\n",
       "0          45523                 22                      55  ...         0.0   \n",
       "1              1                  2                       0  ...         0.0   \n",
       "2              1                  3                       0  ...         0.0   \n",
       "3            217                  1                       3  ...         0.0   \n",
       "4          78068                  5                       0  ...         0.0   \n",
       "\n",
       "   Active.Max  Active.Min  Idle.Mean  Idle.Std  Idle.Max  Idle.Min   Label  \\\n",
       "0           0           0        0.0       0.0         0         0  BENIGN   \n",
       "1           0           0        0.0       0.0         0         0  BENIGN   \n",
       "2           0           0        0.0       0.0         0         0  BENIGN   \n",
       "3           0           0        0.0       0.0         0         0  BENIGN   \n",
       "4           0           0        0.0       0.0         0         0  BENIGN   \n",
       "\n",
       "   L7Protocol  ProtocolName  \n",
       "0         131    HTTP_PROXY  \n",
       "1         131    HTTP_PROXY  \n",
       "2           7          HTTP  \n",
       "3           7          HTTP  \n",
       "4         131    HTTP_PROXY  \n",
       "\n",
       "[5 rows x 87 columns]"
      ]
     },
     "execution_count": 2,
     "metadata": {},
     "output_type": "execute_result"
    }
   ],
   "source": [
    "df_big = pd.read_csv('data/Dataset-Unicauca-Version2-87Atts.csv', nrows=10000)\n",
    "df_big.head()"
   ]
  },
  {
   "cell_type": "code",
   "execution_count": 3,
   "id": "4d9ab90b-9616-468e-8c9a-3578b2a38e94",
   "metadata": {},
   "outputs": [
    {
     "data": {
      "text/plain": [
       "(10000, 87)"
      ]
     },
     "execution_count": 3,
     "metadata": {},
     "output_type": "execute_result"
    }
   ],
   "source": [
    "df_big.shape"
   ]
  },
  {
   "cell_type": "code",
   "execution_count": 4,
   "id": "0e4e46b4-7884-4595-8f80-49431f150aed",
   "metadata": {},
   "outputs": [
    {
     "data": {
      "text/plain": [
       "{dtype('int64'), dtype('float64'), dtype('O')}"
      ]
     },
     "execution_count": 4,
     "metadata": {},
     "output_type": "execute_result"
    }
   ],
   "source": [
    "set(df_big.dtypes)"
   ]
  },
  {
   "cell_type": "code",
   "execution_count": 5,
   "id": "cf0c2be0",
   "metadata": {},
   "outputs": [
    {
     "data": {
      "text/plain": [
       "False"
      ]
     },
     "execution_count": 5,
     "metadata": {},
     "output_type": "execute_result"
    }
   ],
   "source": [
    "df_big.isna().any().any()"
   ]
  },
  {
   "cell_type": "code",
   "execution_count": 6,
   "id": "b31762f5-b996-4cce-8efa-26f1d1809095",
   "metadata": {},
   "outputs": [
    {
     "data": {
      "text/plain": [
       "{'int': Index(['Source.Port', 'Destination.Port', 'Protocol', 'Flow.Duration',\n",
       "        'Total.Fwd.Packets', 'Total.Backward.Packets',\n",
       "        'Total.Length.of.Fwd.Packets', 'Total.Length.of.Bwd.Packets',\n",
       "        'Fwd.Packet.Length.Max', 'Fwd.Packet.Length.Min',\n",
       "        'Bwd.Packet.Length.Max', 'Bwd.Packet.Length.Min', 'Flow.IAT.Max',\n",
       "        'Flow.IAT.Min', 'Fwd.IAT.Total', 'Fwd.IAT.Max', 'Fwd.IAT.Min',\n",
       "        'Bwd.IAT.Total', 'Bwd.IAT.Max', 'Bwd.IAT.Min', 'Fwd.PSH.Flags',\n",
       "        'Bwd.PSH.Flags', 'Fwd.URG.Flags', 'Bwd.URG.Flags', 'Fwd.Header.Length',\n",
       "        'Bwd.Header.Length', 'Min.Packet.Length', 'Max.Packet.Length',\n",
       "        'FIN.Flag.Count', 'SYN.Flag.Count', 'RST.Flag.Count', 'PSH.Flag.Count',\n",
       "        'ACK.Flag.Count', 'URG.Flag.Count', 'CWE.Flag.Count', 'ECE.Flag.Count',\n",
       "        'Down.Up.Ratio', 'Fwd.Header.Length.1', 'Fwd.Avg.Bytes.Bulk',\n",
       "        'Fwd.Avg.Packets.Bulk', 'Fwd.Avg.Bulk.Rate', 'Bwd.Avg.Bytes.Bulk',\n",
       "        'Bwd.Avg.Packets.Bulk', 'Bwd.Avg.Bulk.Rate', 'Subflow.Fwd.Packets',\n",
       "        'Subflow.Fwd.Bytes', 'Subflow.Bwd.Packets', 'Subflow.Bwd.Bytes',\n",
       "        'Init_Win_bytes_forward', 'Init_Win_bytes_backward', 'act_data_pkt_fwd',\n",
       "        'min_seg_size_forward', 'Active.Max', 'Active.Min', 'Idle.Max',\n",
       "        'Idle.Min', 'L7Protocol'],\n",
       "       dtype='object'),\n",
       " 'float': Index(['Fwd.Packet.Length.Mean', 'Fwd.Packet.Length.Std',\n",
       "        'Bwd.Packet.Length.Mean', 'Bwd.Packet.Length.Std', 'Flow.Bytes.s',\n",
       "        'Flow.Packets.s', 'Flow.IAT.Mean', 'Flow.IAT.Std', 'Fwd.IAT.Mean',\n",
       "        'Fwd.IAT.Std', 'Bwd.IAT.Mean', 'Bwd.IAT.Std', 'Fwd.Packets.s',\n",
       "        'Bwd.Packets.s', 'Packet.Length.Mean', 'Packet.Length.Std',\n",
       "        'Packet.Length.Variance', 'Average.Packet.Size', 'Avg.Fwd.Segment.Size',\n",
       "        'Avg.Bwd.Segment.Size', 'Active.Mean', 'Active.Std', 'Idle.Mean',\n",
       "        'Idle.Std'],\n",
       "       dtype='object'),\n",
       " 'str': Index(['Flow.ID', 'Source.IP', 'Destination.IP', 'Timestamp', 'Label',\n",
       "        'ProtocolName'],\n",
       "       dtype='object')}"
      ]
     },
     "execution_count": 6,
     "metadata": {},
     "output_type": "execute_result"
    }
   ],
   "source": [
    "columns_of_type = {'int':df_big.columns[df_big.dtypes=='int64'], 'float':df_big.columns[df_big.dtypes=='float64'], 'str':df_big.columns[df_big.dtypes=='object']}\n",
    "columns_of_type"
   ]
  },
  {
   "cell_type": "code",
   "execution_count": 7,
   "id": "d5ef4e04-db54-4fb2-8d9b-abe483b48d75",
   "metadata": {},
   "outputs": [
    {
     "data": {
      "text/plain": [
       "array(['BENIGN'], dtype=object)"
      ]
     },
     "execution_count": 7,
     "metadata": {},
     "output_type": "execute_result"
    }
   ],
   "source": [
    "df_big[columns_of_type['str']]['Label'].unique() # Only BENIGN packets"
   ]
  },
  {
   "cell_type": "code",
   "execution_count": 8,
   "id": "5544c043",
   "metadata": {},
   "outputs": [
    {
     "data": {
      "text/plain": [
       "{'mean', 's', 'size', 'std', 'variance'}"
      ]
     },
     "execution_count": 8,
     "metadata": {},
     "output_type": "execute_result"
    }
   ],
   "source": [
    "set([s[s.rfind('.')+1:] for s in columns_of_type['float'].str.lower().tolist()])"
   ]
  },
  {
   "cell_type": "code",
   "execution_count": 9,
   "id": "86de545c-19c6-4c54-8633-994115670c68",
   "metadata": {},
   "outputs": [],
   "source": [
    "df_big.drop(columns=df_big.columns[df_big.columns.str.lower().str.contains('max|mean|min|std|variance')], inplace=True)"
   ]
  },
  {
   "cell_type": "code",
   "execution_count": 10,
   "id": "941116ff",
   "metadata": {},
   "outputs": [
    {
     "data": {
      "text/plain": [
       "{'int': Index(['Source.Port', 'Destination.Port', 'Protocol', 'Flow.Duration',\n",
       "        'Total.Fwd.Packets', 'Total.Backward.Packets',\n",
       "        'Total.Length.of.Fwd.Packets', 'Total.Length.of.Bwd.Packets',\n",
       "        'Fwd.IAT.Total', 'Bwd.IAT.Total', 'Fwd.PSH.Flags', 'Bwd.PSH.Flags',\n",
       "        'Fwd.URG.Flags', 'Bwd.URG.Flags', 'Fwd.Header.Length',\n",
       "        'Bwd.Header.Length', 'FIN.Flag.Count', 'SYN.Flag.Count',\n",
       "        'RST.Flag.Count', 'PSH.Flag.Count', 'ACK.Flag.Count', 'URG.Flag.Count',\n",
       "        'CWE.Flag.Count', 'ECE.Flag.Count', 'Down.Up.Ratio',\n",
       "        'Fwd.Header.Length.1', 'Fwd.Avg.Bytes.Bulk', 'Fwd.Avg.Packets.Bulk',\n",
       "        'Fwd.Avg.Bulk.Rate', 'Bwd.Avg.Bytes.Bulk', 'Bwd.Avg.Packets.Bulk',\n",
       "        'Bwd.Avg.Bulk.Rate', 'Subflow.Fwd.Packets', 'Subflow.Fwd.Bytes',\n",
       "        'Subflow.Bwd.Packets', 'Subflow.Bwd.Bytes', 'Init_Win_bytes_forward',\n",
       "        'Init_Win_bytes_backward', 'act_data_pkt_fwd', 'L7Protocol'],\n",
       "       dtype='object'),\n",
       " 'float': Index(['Flow.Bytes.s', 'Flow.Packets.s', 'Fwd.Packets.s', 'Bwd.Packets.s',\n",
       "        'Average.Packet.Size', 'Avg.Fwd.Segment.Size', 'Avg.Bwd.Segment.Size'],\n",
       "       dtype='object'),\n",
       " 'str': Index(['Flow.ID', 'Source.IP', 'Destination.IP', 'Timestamp', 'Label',\n",
       "        'ProtocolName'],\n",
       "       dtype='object')}"
      ]
     },
     "execution_count": 10,
     "metadata": {},
     "output_type": "execute_result"
    }
   ],
   "source": [
    "columns_of_type = {'int':df_big.columns[df_big.dtypes=='int64'], 'float':df_big.columns[df_big.dtypes=='float64'], 'str':df_big.columns[df_big.dtypes=='object']}\n",
    "columns_of_type"
   ]
  },
  {
   "cell_type": "code",
   "execution_count": 11,
   "id": "82b6d892",
   "metadata": {},
   "outputs": [],
   "source": [
    "import os\n",
    "anom_fnames = [f for f in os.listdir() if 'ISCX' in f]"
   ]
  },
  {
   "cell_type": "markdown",
   "id": "d5622e13",
   "metadata": {},
   "source": [
    "1. look at all the ISCX csvs, do they have all the same columns? if so, merge em\n",
    "2. figure out which columns we actually wanna keep (and how would they be split up for different entities in the ER model?)"
   ]
  },
  {
   "cell_type": "code",
   "execution_count": null,
   "id": "39c49cd1-dd00-4e80-831a-bc13f3790f9c",
   "metadata": {},
   "outputs": [],
   "source": [
    "df_anoms = pd.read_csv('''the anom_fnames here''')\n",
    "df_anoms.head()"
   ]
  },
  {
   "cell_type": "code",
   "execution_count": null,
   "id": "24357c16",
   "metadata": {},
   "outputs": [],
   "source": [
    "df_anoms.shape"
   ]
  },
  {
   "cell_type": "code",
   "execution_count": null,
   "id": "b483c622",
   "metadata": {},
   "outputs": [],
   "source": [
    "set(df_anoms.dtypes)"
   ]
  },
  {
   "cell_type": "code",
   "execution_count": null,
   "id": "e74c850a",
   "metadata": {},
   "outputs": [],
   "source": [
    "df_anoms.isna().any().any()"
   ]
  },
  {
   "cell_type": "code",
   "execution_count": null,
   "id": "e7b88958",
   "metadata": {},
   "outputs": [],
   "source": [
    "columns2_of_type = {\n",
    "    'int':df_anoms.columns[df_anoms.dtypes=='int64'], \n",
    "    'float':df_anoms.columns[df_anoms.dtypes=='float64'], \n",
    "    'str':df_anoms.columns[df_anoms.dtypes=='object']\n",
    "}\n",
    "columns2_of_type"
   ]
  },
  {
   "cell_type": "code",
   "execution_count": null,
   "id": "81c3f9c1",
   "metadata": {},
   "outputs": [],
   "source": [
    "columns_of_type"
   ]
  },
  {
   "cell_type": "code",
   "execution_count": null,
   "id": "2affe249",
   "metadata": {},
   "outputs": [],
   "source": [
    "columns2_of_type"
   ]
  },
  {
   "cell_type": "code",
   "execution_count": null,
   "id": "2a58ffc6",
   "metadata": {},
   "outputs": [],
   "source": [
    "cols1 = [item for sublist in [l.tolist() for l in list(columns_of_type.values())] for item in sublist]\n",
    "cols2 = [item for sublist in [l.tolist() for l in list(columns2_of_type.values())] for item in sublist]"
   ]
  },
  {
   "cell_type": "code",
   "execution_count": null,
   "id": "02baa928",
   "metadata": {},
   "outputs": [],
   "source": [
    "cols1 = sorted([s.lower().replace('.','') for s in cols1])\n",
    "cols1"
   ]
  },
  {
   "cell_type": "code",
   "execution_count": null,
   "id": "1ace3769",
   "metadata": {},
   "outputs": [],
   "source": [
    "cols2 = sorted([s.lower().replace('_','').replace('src','source').replace('dst','destination') for s in cols2])\n",
    "cols2"
   ]
  },
  {
   "cell_type": "code",
   "execution_count": null,
   "id": "df9f41df",
   "metadata": {},
   "outputs": [],
   "source": [
    "pd.DataFrame((cols1,cols2)).transpose()"
   ]
  },
  {
   "cell_type": "code",
   "execution_count": null,
   "id": "bed0e219",
   "metadata": {},
   "outputs": [],
   "source": [
    "df_anoms['web_service'].unique()"
   ]
  },
  {
   "cell_type": "code",
   "execution_count": null,
   "id": "5586265c",
   "metadata": {},
   "outputs": [],
   "source": [
    "df_anoms['proto']"
   ]
  },
  {
   "cell_type": "code",
   "execution_count": null,
   "id": "f49d92cd",
   "metadata": {},
   "outputs": [],
   "source": [
    "df_anoms.columns"
   ]
  },
  {
   "cell_type": "code",
   "execution_count": null,
   "id": "c5062e7f",
   "metadata": {},
   "outputs": [],
   "source": [
    "df_anoms"
   ]
  },
  {
   "cell_type": "code",
   "execution_count": null,
   "id": "9d0a4e99",
   "metadata": {},
   "outputs": [],
   "source": []
  }
 ],
 "metadata": {
  "kernelspec": {
   "display_name": "Python 3",
   "language": "python",
   "name": "python3"
  },
  "language_info": {
   "codemirror_mode": {
    "name": "ipython",
    "version": 3
   },
   "file_extension": ".py",
   "mimetype": "text/x-python",
   "name": "python",
   "nbconvert_exporter": "python",
   "pygments_lexer": "ipython3",
   "version": "3.8.11"
  }
 },
 "nbformat": 4,
 "nbformat_minor": 5
}
