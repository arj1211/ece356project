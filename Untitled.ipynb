{
 "cells": [
  {
   "cell_type": "code",
   "execution_count": 1,
   "id": "1ae307dd",
   "metadata": {},
   "outputs": [],
   "source": [
    "import pandas as pd\n",
    "import numpy as np"
   ]
  },
  {
   "cell_type": "code",
   "execution_count": 2,
   "id": "4450b0a9",
   "metadata": {},
   "outputs": [
    {
     "data": {
      "text/plain": [
       "Index(['flow_key', 'src_ip_numeric', 'src_ip', 'src_port', 'dst_ip',\n",
       "       'dst_port', 'proto', 'pktTotalCount', 'octetTotalCount', 'min_ps',\n",
       "       'max_ps', 'avg_ps', 'std_dev_ps', 'flowStart', 'flowEnd',\n",
       "       'flowDuration', 'min_piat', 'max_piat', 'avg_piat', 'std_dev_piat',\n",
       "       'f_pktTotalCount', 'f_octetTotalCount', 'f_min_ps', 'f_max_ps',\n",
       "       'f_avg_ps', 'f_std_dev_ps', 'f_flowStart', 'f_flowEnd',\n",
       "       'f_flowDuration', 'f_min_piat', 'f_max_piat', 'f_avg_piat',\n",
       "       'f_std_dev_piat', 'b_pktTotalCount', 'b_octetTotalCount', 'b_min_ps',\n",
       "       'b_max_ps', 'b_avg_ps', 'b_std_dev_ps', 'b_flowStart', 'b_flowEnd',\n",
       "       'b_flowDuration', 'b_min_piat', 'b_max_piat', 'b_avg_piat',\n",
       "       'b_std_dev_piat', 'flowEndReason', 'category', 'application_protocol',\n",
       "       'web_service'],\n",
       "      dtype='object')"
      ]
     },
     "execution_count": 2,
     "metadata": {},
     "output_type": "execute_result"
    }
   ],
   "source": [
    "df = pd.read_csv('data/Unicauca-dataset-April-June-2019-Network-flows.csv', nrows=10000)\n",
    "df.columns"
   ]
  },
  {
   "cell_type": "code",
   "execution_count": 3,
   "id": "ad330ce7",
   "metadata": {},
   "outputs": [
    {
     "data": {
      "text/plain": [
       "(50,)"
      ]
     },
     "execution_count": 3,
     "metadata": {},
     "output_type": "execute_result"
    }
   ],
   "source": [
    "df.columns.shape"
   ]
  },
  {
   "cell_type": "code",
   "execution_count": 6,
   "id": "31943fb7",
   "metadata": {},
   "outputs": [
    {
     "data": {
      "text/html": [
       "<div>\n",
       "<style scoped>\n",
       "    .dataframe tbody tr th:only-of-type {\n",
       "        vertical-align: middle;\n",
       "    }\n",
       "\n",
       "    .dataframe tbody tr th {\n",
       "        vertical-align: top;\n",
       "    }\n",
       "\n",
       "    .dataframe thead th {\n",
       "        text-align: right;\n",
       "    }\n",
       "</style>\n",
       "<table border=\"1\" class=\"dataframe\">\n",
       "  <thead>\n",
       "    <tr style=\"text-align: right;\">\n",
       "      <th></th>\n",
       "      <th>flowEndReason</th>\n",
       "      <th>category</th>\n",
       "      <th>application_protocol</th>\n",
       "      <th>web_service</th>\n",
       "    </tr>\n",
       "  </thead>\n",
       "  <tbody>\n",
       "    <tr>\n",
       "      <th>0</th>\n",
       "      <td>2</td>\n",
       "      <td>Network</td>\n",
       "      <td>Unknown</td>\n",
       "      <td>DHCP</td>\n",
       "    </tr>\n",
       "    <tr>\n",
       "      <th>1</th>\n",
       "      <td>2</td>\n",
       "      <td>Network</td>\n",
       "      <td>Unknown</td>\n",
       "      <td>DHCP</td>\n",
       "    </tr>\n",
       "    <tr>\n",
       "      <th>2</th>\n",
       "      <td>2</td>\n",
       "      <td>Network</td>\n",
       "      <td>Unknown</td>\n",
       "      <td>DHCP</td>\n",
       "    </tr>\n",
       "    <tr>\n",
       "      <th>3</th>\n",
       "      <td>2</td>\n",
       "      <td>Network</td>\n",
       "      <td>Unknown</td>\n",
       "      <td>DHCP</td>\n",
       "    </tr>\n",
       "    <tr>\n",
       "      <th>4</th>\n",
       "      <td>2</td>\n",
       "      <td>Network</td>\n",
       "      <td>Unknown</td>\n",
       "      <td>ICMP</td>\n",
       "    </tr>\n",
       "  </tbody>\n",
       "</table>\n",
       "</div>"
      ],
      "text/plain": [
       "   flowEndReason category application_protocol web_service\n",
       "0              2  Network              Unknown        DHCP\n",
       "1              2  Network              Unknown        DHCP\n",
       "2              2  Network              Unknown        DHCP\n",
       "3              2  Network              Unknown        DHCP\n",
       "4              2  Network              Unknown        ICMP"
      ]
     },
     "execution_count": 6,
     "metadata": {},
     "output_type": "execute_result"
    }
   ],
   "source": [
    "df[['flowEndReason', 'category', 'application_protocol',\n",
    "       'web_service']].head()"
   ]
  },
  {
   "cell_type": "code",
   "execution_count": null,
   "id": "11553a0e",
   "metadata": {},
   "outputs": [],
   "source": []
  }
 ],
 "metadata": {
  "kernelspec": {
   "display_name": "Python 3",
   "language": "python",
   "name": "python3"
  },
  "language_info": {
   "codemirror_mode": {
    "name": "ipython",
    "version": 3
   },
   "file_extension": ".py",
   "mimetype": "text/x-python",
   "name": "python",
   "nbconvert_exporter": "python",
   "pygments_lexer": "ipython3",
   "version": "3.8.11"
  }
 },
 "nbformat": 4,
 "nbformat_minor": 5
}
