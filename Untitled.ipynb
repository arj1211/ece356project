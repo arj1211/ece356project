{
 "cells": [
  {
   "cell_type": "code",
   "execution_count": 2,
   "id": "1ae307dd",
   "metadata": {},
   "outputs": [],
   "source": [
    "import pandas as pd\n",
    "import numpy as np"
   ]
  },
  {
   "cell_type": "code",
   "execution_count": 3,
   "id": "292b9f14",
   "metadata": {},
   "outputs": [
    {
     "data": {
      "text/plain": [
       "Index(['Flow.ID', 'Source.IP', 'Source.Port', 'Destination.IP',\n",
       "       'Destination.Port', 'Protocol', 'Timestamp', 'Flow.Duration',\n",
       "       'Total.Fwd.Packets', 'Total.Backward.Packets',\n",
       "       'Total.Length.of.Fwd.Packets', 'Total.Length.of.Bwd.Packets',\n",
       "       'Fwd.Packet.Length.Max', 'Fwd.Packet.Length.Min',\n",
       "       'Fwd.Packet.Length.Mean', 'Fwd.Packet.Length.Std',\n",
       "       'Bwd.Packet.Length.Max', 'Bwd.Packet.Length.Min',\n",
       "       'Bwd.Packet.Length.Mean', 'Bwd.Packet.Length.Std', 'Flow.Bytes.s',\n",
       "       'Flow.Packets.s', 'Flow.IAT.Mean', 'Flow.IAT.Std', 'Flow.IAT.Max',\n",
       "       'Flow.IAT.Min', 'Fwd.IAT.Total', 'Fwd.IAT.Mean', 'Fwd.IAT.Std',\n",
       "       'Fwd.IAT.Max', 'Fwd.IAT.Min', 'Bwd.IAT.Total', 'Bwd.IAT.Mean',\n",
       "       'Bwd.IAT.Std', 'Bwd.IAT.Max', 'Bwd.IAT.Min', 'Fwd.PSH.Flags',\n",
       "       'Bwd.PSH.Flags', 'Fwd.URG.Flags', 'Bwd.URG.Flags', 'Fwd.Header.Length',\n",
       "       'Bwd.Header.Length', 'Fwd.Packets.s', 'Bwd.Packets.s',\n",
       "       'Min.Packet.Length', 'Max.Packet.Length', 'Packet.Length.Mean',\n",
       "       'Packet.Length.Std', 'Packet.Length.Variance', 'FIN.Flag.Count',\n",
       "       'SYN.Flag.Count', 'RST.Flag.Count', 'PSH.Flag.Count', 'ACK.Flag.Count',\n",
       "       'URG.Flag.Count', 'CWE.Flag.Count', 'ECE.Flag.Count', 'Down.Up.Ratio',\n",
       "       'Average.Packet.Size', 'Avg.Fwd.Segment.Size', 'Avg.Bwd.Segment.Size',\n",
       "       'Fwd.Header.Length.1', 'Fwd.Avg.Bytes.Bulk', 'Fwd.Avg.Packets.Bulk',\n",
       "       'Fwd.Avg.Bulk.Rate', 'Bwd.Avg.Bytes.Bulk', 'Bwd.Avg.Packets.Bulk',\n",
       "       'Bwd.Avg.Bulk.Rate', 'Subflow.Fwd.Packets', 'Subflow.Fwd.Bytes',\n",
       "       'Subflow.Bwd.Packets', 'Subflow.Bwd.Bytes', 'Init_Win_bytes_forward',\n",
       "       'Init_Win_bytes_backward', 'act_data_pkt_fwd', 'min_seg_size_forward',\n",
       "       'Active.Mean', 'Active.Std', 'Active.Max', 'Active.Min', 'Idle.Mean',\n",
       "       'Idle.Std', 'Idle.Max', 'Idle.Min', 'Label', 'L7Protocol',\n",
       "       'ProtocolName'],\n",
       "      dtype='object')"
      ]
     },
     "execution_count": 3,
     "metadata": {},
     "output_type": "execute_result"
    }
   ],
   "source": [
    "df1 = pd.read_csv('data/Dataset-Unicauca-Version2-87Atts.csv', nrows=10000)\n",
    "df1.columns"
   ]
  },
  {
   "cell_type": "code",
   "execution_count": 4,
   "id": "4450b0a9",
   "metadata": {},
   "outputs": [
    {
     "data": {
      "text/plain": [
       "Index(['flow_key', 'src_ip_numeric', 'src_ip', 'src_port', 'dst_ip',\n",
       "       'dst_port', 'proto', 'pktTotalCount', 'octetTotalCount', 'min_ps',\n",
       "       'max_ps', 'avg_ps', 'std_dev_ps', 'flowStart', 'flowEnd',\n",
       "       'flowDuration', 'min_piat', 'max_piat', 'avg_piat', 'std_dev_piat',\n",
       "       'f_pktTotalCount', 'f_octetTotalCount', 'f_min_ps', 'f_max_ps',\n",
       "       'f_avg_ps', 'f_std_dev_ps', 'f_flowStart', 'f_flowEnd',\n",
       "       'f_flowDuration', 'f_min_piat', 'f_max_piat', 'f_avg_piat',\n",
       "       'f_std_dev_piat', 'b_pktTotalCount', 'b_octetTotalCount', 'b_min_ps',\n",
       "       'b_max_ps', 'b_avg_ps', 'b_std_dev_ps', 'b_flowStart', 'b_flowEnd',\n",
       "       'b_flowDuration', 'b_min_piat', 'b_max_piat', 'b_avg_piat',\n",
       "       'b_std_dev_piat', 'flowEndReason', 'category', 'application_protocol',\n",
       "       'web_service'],\n",
       "      dtype='object')"
      ]
     },
     "execution_count": 4,
     "metadata": {},
     "output_type": "execute_result"
    }
   ],
   "source": [
    "df2 = pd.read_csv('data/Unicauca-dataset-April-June-2019-Network-flows.csv', nrows=10000)\n",
    "df2.columns"
   ]
  },
  {
   "cell_type": "code",
   "execution_count": 5,
   "id": "ad330ce7",
   "metadata": {},
   "outputs": [
    {
     "data": {
      "text/plain": [
       "(50,)"
      ]
     },
     "execution_count": 5,
     "metadata": {},
     "output_type": "execute_result"
    }
   ],
   "source": [
    "df1.columns.shape,\n",
    "df2.columns.shape"
   ]
  },
  {
   "cell_type": "code",
   "execution_count": 6,
   "id": "a4cfe0e0",
   "metadata": {},
   "outputs": [
    {
     "data": {
      "text/html": [
       "<div>\n",
       "<style scoped>\n",
       "    .dataframe tbody tr th:only-of-type {\n",
       "        vertical-align: middle;\n",
       "    }\n",
       "\n",
       "    .dataframe tbody tr th {\n",
       "        vertical-align: top;\n",
       "    }\n",
       "\n",
       "    .dataframe thead th {\n",
       "        text-align: right;\n",
       "    }\n",
       "</style>\n",
       "<table border=\"1\" class=\"dataframe\">\n",
       "  <thead>\n",
       "    <tr style=\"text-align: right;\">\n",
       "      <th></th>\n",
       "      <th>Protocol</th>\n",
       "      <th>L7Protocol</th>\n",
       "      <th>ProtocolName</th>\n",
       "    </tr>\n",
       "  </thead>\n",
       "  <tbody>\n",
       "    <tr>\n",
       "      <th>2</th>\n",
       "      <td>6</td>\n",
       "      <td>7</td>\n",
       "      <td>HTTP</td>\n",
       "    </tr>\n",
       "    <tr>\n",
       "      <th>101</th>\n",
       "      <td>6</td>\n",
       "      <td>40</td>\n",
       "      <td>CONTENT_FLASH</td>\n",
       "    </tr>\n",
       "    <tr>\n",
       "      <th>1650</th>\n",
       "      <td>6</td>\n",
       "      <td>64</td>\n",
       "      <td>SSL_NO_CERT</td>\n",
       "    </tr>\n",
       "    <tr>\n",
       "      <th>1526</th>\n",
       "      <td>6</td>\n",
       "      <td>68</td>\n",
       "      <td>MSN</td>\n",
       "    </tr>\n",
       "    <tr>\n",
       "      <th>1483</th>\n",
       "      <td>6</td>\n",
       "      <td>70</td>\n",
       "      <td>YAHOO</td>\n",
       "    </tr>\n",
       "    <tr>\n",
       "      <th>8</th>\n",
       "      <td>6</td>\n",
       "      <td>91</td>\n",
       "      <td>SSL</td>\n",
       "    </tr>\n",
       "    <tr>\n",
       "      <th>2615</th>\n",
       "      <td>6</td>\n",
       "      <td>114</td>\n",
       "      <td>MSSQL</td>\n",
       "    </tr>\n",
       "    <tr>\n",
       "      <th>100</th>\n",
       "      <td>6</td>\n",
       "      <td>119</td>\n",
       "      <td>FACEBOOK</td>\n",
       "    </tr>\n",
       "    <tr>\n",
       "      <th>3366</th>\n",
       "      <td>6</td>\n",
       "      <td>120</td>\n",
       "      <td>TWITTER</td>\n",
       "    </tr>\n",
       "    <tr>\n",
       "      <th>255</th>\n",
       "      <td>6</td>\n",
       "      <td>121</td>\n",
       "      <td>DROPBOX</td>\n",
       "    </tr>\n",
       "    <tr>\n",
       "      <th>1151</th>\n",
       "      <td>6</td>\n",
       "      <td>122</td>\n",
       "      <td>GMAIL</td>\n",
       "    </tr>\n",
       "    <tr>\n",
       "      <th>36</th>\n",
       "      <td>6</td>\n",
       "      <td>124</td>\n",
       "      <td>YOUTUBE</td>\n",
       "    </tr>\n",
       "    <tr>\n",
       "      <th>1754</th>\n",
       "      <td>6</td>\n",
       "      <td>125</td>\n",
       "      <td>SKYPE</td>\n",
       "    </tr>\n",
       "    <tr>\n",
       "      <th>9</th>\n",
       "      <td>6</td>\n",
       "      <td>126</td>\n",
       "      <td>GOOGLE</td>\n",
       "    </tr>\n",
       "    <tr>\n",
       "      <th>7</th>\n",
       "      <td>6</td>\n",
       "      <td>130</td>\n",
       "      <td>HTTP_CONNECT</td>\n",
       "    </tr>\n",
       "    <tr>\n",
       "      <th>0</th>\n",
       "      <td>6</td>\n",
       "      <td>131</td>\n",
       "      <td>HTTP_PROXY</td>\n",
       "    </tr>\n",
       "    <tr>\n",
       "      <th>6730</th>\n",
       "      <td>6</td>\n",
       "      <td>143</td>\n",
       "      <td>APPLE_ICLOUD</td>\n",
       "    </tr>\n",
       "    <tr>\n",
       "      <th>279</th>\n",
       "      <td>6</td>\n",
       "      <td>147</td>\n",
       "      <td>WINDOWS_UPDATE</td>\n",
       "    </tr>\n",
       "    <tr>\n",
       "      <th>932</th>\n",
       "      <td>6</td>\n",
       "      <td>163</td>\n",
       "      <td>TOR</td>\n",
       "    </tr>\n",
       "    <tr>\n",
       "      <th>316</th>\n",
       "      <td>6</td>\n",
       "      <td>178</td>\n",
       "      <td>AMAZON</td>\n",
       "    </tr>\n",
       "    <tr>\n",
       "      <th>330</th>\n",
       "      <td>6</td>\n",
       "      <td>212</td>\n",
       "      <td>MICROSOFT</td>\n",
       "    </tr>\n",
       "    <tr>\n",
       "      <th>8899</th>\n",
       "      <td>6</td>\n",
       "      <td>220</td>\n",
       "      <td>CLOUDFLARE</td>\n",
       "    </tr>\n",
       "    <tr>\n",
       "      <th>2501</th>\n",
       "      <td>6</td>\n",
       "      <td>221</td>\n",
       "      <td>MS_ONE_DRIVE</td>\n",
       "    </tr>\n",
       "  </tbody>\n",
       "</table>\n",
       "</div>"
      ],
      "text/plain": [
       "      Protocol  L7Protocol    ProtocolName\n",
       "2            6           7            HTTP\n",
       "101          6          40   CONTENT_FLASH\n",
       "1650         6          64     SSL_NO_CERT\n",
       "1526         6          68             MSN\n",
       "1483         6          70           YAHOO\n",
       "8            6          91             SSL\n",
       "2615         6         114           MSSQL\n",
       "100          6         119        FACEBOOK\n",
       "3366         6         120         TWITTER\n",
       "255          6         121         DROPBOX\n",
       "1151         6         122           GMAIL\n",
       "36           6         124         YOUTUBE\n",
       "1754         6         125           SKYPE\n",
       "9            6         126          GOOGLE\n",
       "7            6         130    HTTP_CONNECT\n",
       "0            6         131      HTTP_PROXY\n",
       "6730         6         143    APPLE_ICLOUD\n",
       "279          6         147  WINDOWS_UPDATE\n",
       "932          6         163             TOR\n",
       "316          6         178          AMAZON\n",
       "330          6         212       MICROSOFT\n",
       "8899         6         220      CLOUDFLARE\n",
       "2501         6         221    MS_ONE_DRIVE"
      ]
     },
     "execution_count": 6,
     "metadata": {},
     "output_type": "execute_result"
    }
   ],
   "source": [
    "df1[['Protocol', 'L7Protocol', 'ProtocolName']].drop_duplicates().sort_values(by='L7Protocol')"
   ]
  },
  {
   "cell_type": "code",
   "execution_count": 7,
   "id": "b092fdd1",
   "metadata": {},
   "outputs": [
    {
     "data": {
      "text/plain": [
       "array([6], dtype=int64)"
      ]
     },
     "execution_count": 7,
     "metadata": {},
     "output_type": "execute_result"
    }
   ],
   "source": [
    "df1.Protocol.unique()"
   ]
  },
  {
   "cell_type": "code",
   "execution_count": 8,
   "id": "f19d628e",
   "metadata": {},
   "outputs": [
    {
     "data": {
      "text/plain": [
       "array([131,   7, 130,  91, 126, 124, 119,  40, 121, 147, 178, 212, 163,\n",
       "       122,  70,  68,  64, 125, 221, 114, 120, 143, 220], dtype=int64)"
      ]
     },
     "execution_count": 8,
     "metadata": {},
     "output_type": "execute_result"
    }
   ],
   "source": [
    "df1.L7Protocol.unique()"
   ]
  },
  {
   "cell_type": "code",
   "execution_count": 9,
   "id": "73b116e1",
   "metadata": {},
   "outputs": [
    {
     "data": {
      "text/plain": [
       "array(['HTTP_PROXY', 'HTTP', 'HTTP_CONNECT', 'SSL', 'GOOGLE', 'YOUTUBE',\n",
       "       'FACEBOOK', 'CONTENT_FLASH', 'DROPBOX', 'WINDOWS_UPDATE', 'AMAZON',\n",
       "       'MICROSOFT', 'TOR', 'GMAIL', 'YAHOO', 'MSN', 'SSL_NO_CERT',\n",
       "       'SKYPE', 'MS_ONE_DRIVE', 'MSSQL', 'TWITTER', 'APPLE_ICLOUD',\n",
       "       'CLOUDFLARE'], dtype=object)"
      ]
     },
     "execution_count": 9,
     "metadata": {},
     "output_type": "execute_result"
    }
   ],
   "source": [
    "df1.ProtocolName.unique()"
   ]
  },
  {
   "cell_type": "code",
   "execution_count": 10,
   "id": "11553a0e",
   "metadata": {},
   "outputs": [
    {
     "data": {
      "text/plain": [
       "array(['Unknown', 'HTTP', 'TLS', 'DNS', 'QUIC', 'IMAPS'], dtype=object)"
      ]
     },
     "execution_count": 10,
     "metadata": {},
     "output_type": "execute_result"
    }
   ],
   "source": [
    "df2.application_protocol.unique()"
   ]
  },
  {
   "cell_type": "code",
   "execution_count": 11,
   "id": "25e53b7f",
   "metadata": {},
   "outputs": [
    {
     "data": {
      "text/plain": [
       "array([17,  1,  6], dtype=int64)"
      ]
     },
     "execution_count": 11,
     "metadata": {},
     "output_type": "execute_result"
    }
   ],
   "source": [
    "df2.proto.unique()"
   ]
  },
  {
   "cell_type": "code",
   "execution_count": 12,
   "id": "ec1c5e96",
   "metadata": {},
   "outputs": [
    {
     "data": {
      "text/html": [
       "<div>\n",
       "<style scoped>\n",
       "    .dataframe tbody tr th:only-of-type {\n",
       "        vertical-align: middle;\n",
       "    }\n",
       "\n",
       "    .dataframe tbody tr th {\n",
       "        vertical-align: top;\n",
       "    }\n",
       "\n",
       "    .dataframe thead th {\n",
       "        text-align: right;\n",
       "    }\n",
       "</style>\n",
       "<table border=\"1\" class=\"dataframe\">\n",
       "  <thead>\n",
       "    <tr style=\"text-align: right;\">\n",
       "      <th></th>\n",
       "      <th>proto</th>\n",
       "      <th>application_protocol</th>\n",
       "      <th>web_service</th>\n",
       "    </tr>\n",
       "  </thead>\n",
       "  <tbody>\n",
       "    <tr>\n",
       "      <th>0</th>\n",
       "      <td>17</td>\n",
       "      <td>Unknown</td>\n",
       "      <td>DHCP</td>\n",
       "    </tr>\n",
       "    <tr>\n",
       "      <th>4</th>\n",
       "      <td>1</td>\n",
       "      <td>Unknown</td>\n",
       "      <td>ICMP</td>\n",
       "    </tr>\n",
       "    <tr>\n",
       "      <th>15</th>\n",
       "      <td>6</td>\n",
       "      <td>Unknown</td>\n",
       "      <td>HTTP</td>\n",
       "    </tr>\n",
       "    <tr>\n",
       "      <th>21</th>\n",
       "      <td>6</td>\n",
       "      <td>HTTP</td>\n",
       "      <td>Microsoft</td>\n",
       "    </tr>\n",
       "    <tr>\n",
       "      <th>24</th>\n",
       "      <td>6</td>\n",
       "      <td>HTTP</td>\n",
       "      <td>WindowsUpdate</td>\n",
       "    </tr>\n",
       "    <tr>\n",
       "      <th>...</th>\n",
       "      <td>...</td>\n",
       "      <td>...</td>\n",
       "      <td>...</td>\n",
       "    </tr>\n",
       "    <tr>\n",
       "      <th>8620</th>\n",
       "      <td>17</td>\n",
       "      <td>DNS</td>\n",
       "      <td>Github</td>\n",
       "    </tr>\n",
       "    <tr>\n",
       "      <th>8865</th>\n",
       "      <td>6</td>\n",
       "      <td>HTTP</td>\n",
       "      <td>Skype</td>\n",
       "    </tr>\n",
       "    <tr>\n",
       "      <th>8882</th>\n",
       "      <td>6</td>\n",
       "      <td>TLS</td>\n",
       "      <td>GoogleDocs</td>\n",
       "    </tr>\n",
       "    <tr>\n",
       "      <th>9276</th>\n",
       "      <td>17</td>\n",
       "      <td>DNS</td>\n",
       "      <td>GoogleDocs</td>\n",
       "    </tr>\n",
       "    <tr>\n",
       "      <th>9487</th>\n",
       "      <td>17</td>\n",
       "      <td>Unknown</td>\n",
       "      <td>Teredo</td>\n",
       "    </tr>\n",
       "  </tbody>\n",
       "</table>\n",
       "<p>87 rows × 3 columns</p>\n",
       "</div>"
      ],
      "text/plain": [
       "      proto application_protocol    web_service\n",
       "0        17              Unknown           DHCP\n",
       "4         1              Unknown           ICMP\n",
       "15        6              Unknown           HTTP\n",
       "21        6                 HTTP      Microsoft\n",
       "24        6                 HTTP  WindowsUpdate\n",
       "...     ...                  ...            ...\n",
       "8620     17                  DNS         Github\n",
       "8865      6                 HTTP          Skype\n",
       "8882      6                  TLS     GoogleDocs\n",
       "9276     17                  DNS     GoogleDocs\n",
       "9487     17              Unknown         Teredo\n",
       "\n",
       "[87 rows x 3 columns]"
      ]
     },
     "execution_count": 12,
     "metadata": {},
     "output_type": "execute_result"
    }
   ],
   "source": [
    "df2[['proto', 'application_protocol', 'web_service']].drop_duplicates()"
   ]
  },
  {
   "cell_type": "code",
   "execution_count": 13,
   "id": "fb751fd0",
   "metadata": {},
   "outputs": [
    {
     "data": {
      "text/plain": [
       "array(['DHCP', 'ICMP', 'HTTP', 'Microsoft', 'WindowsUpdate', 'Unknown',\n",
       "       'DNS', 'RX', 'TLS', 'NetBIOS', 'GoogleServices', 'Amazon', 'MSN',\n",
       "       'Yahoo', 'MS_OneDrive', 'Google', 'Dropbox', 'GMail', 'UbuntuONE',\n",
       "       'GoogleDrive', 'YouTube', 'HTTP_Proxy', 'NTP', 'Apple',\n",
       "       'AppleiTunes', 'AppleStore', 'ApplePush', 'AppleiCloud', 'IMAPS',\n",
       "       'IMO', 'Office365', 'Skype', 'Cloudflare', 'Spotify', 'LDAP',\n",
       "       'Twitter', 'Facebook', 'LinkedIn', 'Instagram', 'AmazonVideo',\n",
       "       'GooglePlus', 'Github', 'GoogleDocs', 'Teredo'], dtype=object)"
      ]
     },
     "execution_count": 13,
     "metadata": {},
     "output_type": "execute_result"
    }
   ],
   "source": [
    "df2.web_service.unique()"
   ]
  },
  {
   "cell_type": "code",
   "execution_count": 14,
   "id": "e3e5c24f",
   "metadata": {},
   "outputs": [
    {
     "data": {
      "text/plain": [
       "array(['BENIGN'], dtype=object)"
      ]
     },
     "execution_count": 14,
     "metadata": {},
     "output_type": "execute_result"
    }
   ],
   "source": [
    "df1.Label.unique()"
   ]
  },
  {
   "cell_type": "code",
   "execution_count": 16,
   "id": "14ad2a54",
   "metadata": {},
   "outputs": [
    {
     "data": {
      "text/plain": [
       "['Fwd.PSH.Flags',\n",
       " 'Bwd.PSH.Flags',\n",
       " 'Fwd.URG.Flags',\n",
       " 'Bwd.URG.Flags',\n",
       " 'FIN.Flag.Count',\n",
       " 'SYN.Flag.Count',\n",
       " 'RST.Flag.Count',\n",
       " 'PSH.Flag.Count',\n",
       " 'ACK.Flag.Count',\n",
       " 'URG.Flag.Count',\n",
       " 'CWE.Flag.Count',\n",
       " 'ECE.Flag.Count']"
      ]
     },
     "execution_count": 16,
     "metadata": {},
     "output_type": "execute_result"
    }
   ],
   "source": [
    "flag_cols = [c for c in df1.columns if 'flag' in c.lower()]\n",
    "flag_cols"
   ]
  },
  {
   "cell_type": "code",
   "execution_count": 19,
   "id": "1a35ecb4",
   "metadata": {},
   "outputs": [
    {
     "data": {
      "text/html": [
       "<div>\n",
       "<style scoped>\n",
       "    .dataframe tbody tr th:only-of-type {\n",
       "        vertical-align: middle;\n",
       "    }\n",
       "\n",
       "    .dataframe tbody tr th {\n",
       "        vertical-align: top;\n",
       "    }\n",
       "\n",
       "    .dataframe thead th {\n",
       "        text-align: right;\n",
       "    }\n",
       "</style>\n",
       "<table border=\"1\" class=\"dataframe\">\n",
       "  <thead>\n",
       "    <tr style=\"text-align: right;\">\n",
       "      <th></th>\n",
       "      <th>Fwd.PSH.Flags</th>\n",
       "      <th>Bwd.PSH.Flags</th>\n",
       "      <th>Fwd.URG.Flags</th>\n",
       "      <th>Bwd.URG.Flags</th>\n",
       "      <th>FIN.Flag.Count</th>\n",
       "      <th>SYN.Flag.Count</th>\n",
       "      <th>RST.Flag.Count</th>\n",
       "      <th>PSH.Flag.Count</th>\n",
       "      <th>ACK.Flag.Count</th>\n",
       "      <th>URG.Flag.Count</th>\n",
       "      <th>CWE.Flag.Count</th>\n",
       "      <th>ECE.Flag.Count</th>\n",
       "    </tr>\n",
       "  </thead>\n",
       "  <tbody>\n",
       "    <tr>\n",
       "      <th>0</th>\n",
       "      <td>0</td>\n",
       "      <td>0</td>\n",
       "      <td>0</td>\n",
       "      <td>0</td>\n",
       "      <td>0</td>\n",
       "      <td>0</td>\n",
       "      <td>0</td>\n",
       "      <td>0</td>\n",
       "      <td>1</td>\n",
       "      <td>0</td>\n",
       "      <td>0</td>\n",
       "      <td>0</td>\n",
       "    </tr>\n",
       "    <tr>\n",
       "      <th>1</th>\n",
       "      <td>0</td>\n",
       "      <td>0</td>\n",
       "      <td>0</td>\n",
       "      <td>0</td>\n",
       "      <td>0</td>\n",
       "      <td>0</td>\n",
       "      <td>0</td>\n",
       "      <td>0</td>\n",
       "      <td>1</td>\n",
       "      <td>1</td>\n",
       "      <td>0</td>\n",
       "      <td>0</td>\n",
       "    </tr>\n",
       "    <tr>\n",
       "      <th>2</th>\n",
       "      <td>1</td>\n",
       "      <td>0</td>\n",
       "      <td>0</td>\n",
       "      <td>0</td>\n",
       "      <td>0</td>\n",
       "      <td>1</td>\n",
       "      <td>0</td>\n",
       "      <td>0</td>\n",
       "      <td>1</td>\n",
       "      <td>0</td>\n",
       "      <td>0</td>\n",
       "      <td>0</td>\n",
       "    </tr>\n",
       "    <tr>\n",
       "      <th>7</th>\n",
       "      <td>0</td>\n",
       "      <td>0</td>\n",
       "      <td>0</td>\n",
       "      <td>0</td>\n",
       "      <td>0</td>\n",
       "      <td>0</td>\n",
       "      <td>0</td>\n",
       "      <td>1</td>\n",
       "      <td>0</td>\n",
       "      <td>0</td>\n",
       "      <td>0</td>\n",
       "      <td>0</td>\n",
       "    </tr>\n",
       "    <tr>\n",
       "      <th>14</th>\n",
       "      <td>0</td>\n",
       "      <td>0</td>\n",
       "      <td>0</td>\n",
       "      <td>0</td>\n",
       "      <td>0</td>\n",
       "      <td>0</td>\n",
       "      <td>0</td>\n",
       "      <td>1</td>\n",
       "      <td>1</td>\n",
       "      <td>0</td>\n",
       "      <td>0</td>\n",
       "      <td>0</td>\n",
       "    </tr>\n",
       "    <tr>\n",
       "      <th>357</th>\n",
       "      <td>0</td>\n",
       "      <td>0</td>\n",
       "      <td>0</td>\n",
       "      <td>0</td>\n",
       "      <td>1</td>\n",
       "      <td>0</td>\n",
       "      <td>0</td>\n",
       "      <td>0</td>\n",
       "      <td>1</td>\n",
       "      <td>0</td>\n",
       "      <td>0</td>\n",
       "      <td>0</td>\n",
       "    </tr>\n",
       "    <tr>\n",
       "      <th>1900</th>\n",
       "      <td>0</td>\n",
       "      <td>0</td>\n",
       "      <td>0</td>\n",
       "      <td>0</td>\n",
       "      <td>0</td>\n",
       "      <td>0</td>\n",
       "      <td>1</td>\n",
       "      <td>1</td>\n",
       "      <td>0</td>\n",
       "      <td>0</td>\n",
       "      <td>0</td>\n",
       "      <td>1</td>\n",
       "    </tr>\n",
       "    <tr>\n",
       "      <th>2581</th>\n",
       "      <td>1</td>\n",
       "      <td>0</td>\n",
       "      <td>0</td>\n",
       "      <td>0</td>\n",
       "      <td>0</td>\n",
       "      <td>1</td>\n",
       "      <td>0</td>\n",
       "      <td>0</td>\n",
       "      <td>1</td>\n",
       "      <td>1</td>\n",
       "      <td>0</td>\n",
       "      <td>0</td>\n",
       "    </tr>\n",
       "    <tr>\n",
       "      <th>5098</th>\n",
       "      <td>0</td>\n",
       "      <td>0</td>\n",
       "      <td>0</td>\n",
       "      <td>0</td>\n",
       "      <td>1</td>\n",
       "      <td>0</td>\n",
       "      <td>0</td>\n",
       "      <td>0</td>\n",
       "      <td>0</td>\n",
       "      <td>0</td>\n",
       "      <td>0</td>\n",
       "      <td>0</td>\n",
       "    </tr>\n",
       "  </tbody>\n",
       "</table>\n",
       "</div>"
      ],
      "text/plain": [
       "      Fwd.PSH.Flags  Bwd.PSH.Flags  Fwd.URG.Flags  Bwd.URG.Flags  \\\n",
       "0                 0              0              0              0   \n",
       "1                 0              0              0              0   \n",
       "2                 1              0              0              0   \n",
       "7                 0              0              0              0   \n",
       "14                0              0              0              0   \n",
       "357               0              0              0              0   \n",
       "1900              0              0              0              0   \n",
       "2581              1              0              0              0   \n",
       "5098              0              0              0              0   \n",
       "\n",
       "      FIN.Flag.Count  SYN.Flag.Count  RST.Flag.Count  PSH.Flag.Count  \\\n",
       "0                  0               0               0               0   \n",
       "1                  0               0               0               0   \n",
       "2                  0               1               0               0   \n",
       "7                  0               0               0               1   \n",
       "14                 0               0               0               1   \n",
       "357                1               0               0               0   \n",
       "1900               0               0               1               1   \n",
       "2581               0               1               0               0   \n",
       "5098               1               0               0               0   \n",
       "\n",
       "      ACK.Flag.Count  URG.Flag.Count  CWE.Flag.Count  ECE.Flag.Count  \n",
       "0                  1               0               0               0  \n",
       "1                  1               1               0               0  \n",
       "2                  1               0               0               0  \n",
       "7                  0               0               0               0  \n",
       "14                 1               0               0               0  \n",
       "357                1               0               0               0  \n",
       "1900               0               0               0               1  \n",
       "2581               1               1               0               0  \n",
       "5098               0               0               0               0  "
      ]
     },
     "execution_count": 19,
     "metadata": {},
     "output_type": "execute_result"
    }
   ],
   "source": [
    "df1[flag_cols].drop_duplicates()"
   ]
  },
  {
   "cell_type": "code",
   "execution_count": 26,
   "id": "6ae71884",
   "metadata": {},
   "outputs": [
    {
     "data": {
      "text/plain": [
       "array([dtype('O'), dtype('int64'), dtype('float64')], dtype=object)"
      ]
     },
     "execution_count": 26,
     "metadata": {},
     "output_type": "execute_result"
    }
   ],
   "source": [
    "df1.dtypes.unique()"
   ]
  },
  {
   "cell_type": "code",
   "execution_count": 22,
   "id": "29b3f4dc",
   "metadata": {},
   "outputs": [
    {
     "data": {
      "text/plain": [
       "Index(['Flow.ID', 'Source.IP', 'Destination.IP', 'Timestamp', 'Label',\n",
       "       'ProtocolName'],\n",
       "      dtype='object')"
      ]
     },
     "execution_count": 22,
     "metadata": {},
     "output_type": "execute_result"
    }
   ],
   "source": [
    "df1.columns[df1.dtypes=='O']"
   ]
  },
  {
   "cell_type": "code",
   "execution_count": 28,
   "id": "142f21a5",
   "metadata": {},
   "outputs": [
    {
     "data": {
      "text/html": [
       "<div>\n",
       "<style scoped>\n",
       "    .dataframe tbody tr th:only-of-type {\n",
       "        vertical-align: middle;\n",
       "    }\n",
       "\n",
       "    .dataframe tbody tr th {\n",
       "        vertical-align: top;\n",
       "    }\n",
       "\n",
       "    .dataframe thead th {\n",
       "        text-align: right;\n",
       "    }\n",
       "</style>\n",
       "<table border=\"1\" class=\"dataframe\">\n",
       "  <thead>\n",
       "    <tr style=\"text-align: right;\">\n",
       "      <th></th>\n",
       "      <th>Timestamp</th>\n",
       "    </tr>\n",
       "  </thead>\n",
       "  <tbody>\n",
       "    <tr>\n",
       "      <th>0</th>\n",
       "      <td>26/04/201711:11:17</td>\n",
       "    </tr>\n",
       "    <tr>\n",
       "      <th>1</th>\n",
       "      <td>26/04/201711:11:17</td>\n",
       "    </tr>\n",
       "    <tr>\n",
       "      <th>2</th>\n",
       "      <td>26/04/201711:11:17</td>\n",
       "    </tr>\n",
       "    <tr>\n",
       "      <th>3</th>\n",
       "      <td>26/04/201711:11:17</td>\n",
       "    </tr>\n",
       "    <tr>\n",
       "      <th>4</th>\n",
       "      <td>26/04/201711:11:17</td>\n",
       "    </tr>\n",
       "  </tbody>\n",
       "</table>\n",
       "</div>"
      ],
      "text/plain": [
       "            Timestamp\n",
       "0  26/04/201711:11:17\n",
       "1  26/04/201711:11:17\n",
       "2  26/04/201711:11:17\n",
       "3  26/04/201711:11:17\n",
       "4  26/04/201711:11:17"
      ]
     },
     "execution_count": 28,
     "metadata": {},
     "output_type": "execute_result"
    }
   ],
   "source": [
    "df1[['Timestamp']].head()\n",
    "# 'dd/MM/YYYYHH:mm:ss'"
   ]
  },
  {
   "cell_type": "code",
   "execution_count": 24,
   "id": "8ba6edfc",
   "metadata": {},
   "outputs": [
    {
     "data": {
      "text/plain": [
       "Index(['Source.Port', 'Destination.Port', 'Protocol', 'Flow.Duration',\n",
       "       'Total.Fwd.Packets', 'Total.Backward.Packets',\n",
       "       'Total.Length.of.Fwd.Packets', 'Total.Length.of.Bwd.Packets',\n",
       "       'Fwd.Packet.Length.Max', 'Fwd.Packet.Length.Min',\n",
       "       'Bwd.Packet.Length.Max', 'Bwd.Packet.Length.Min', 'Flow.IAT.Max',\n",
       "       'Flow.IAT.Min', 'Fwd.IAT.Total', 'Fwd.IAT.Max', 'Fwd.IAT.Min',\n",
       "       'Bwd.IAT.Total', 'Bwd.IAT.Max', 'Bwd.IAT.Min', 'Fwd.PSH.Flags',\n",
       "       'Bwd.PSH.Flags', 'Fwd.URG.Flags', 'Bwd.URG.Flags', 'Fwd.Header.Length',\n",
       "       'Bwd.Header.Length', 'Min.Packet.Length', 'Max.Packet.Length',\n",
       "       'FIN.Flag.Count', 'SYN.Flag.Count', 'RST.Flag.Count', 'PSH.Flag.Count',\n",
       "       'ACK.Flag.Count', 'URG.Flag.Count', 'CWE.Flag.Count', 'ECE.Flag.Count',\n",
       "       'Down.Up.Ratio', 'Fwd.Header.Length.1', 'Fwd.Avg.Bytes.Bulk',\n",
       "       'Fwd.Avg.Packets.Bulk', 'Fwd.Avg.Bulk.Rate', 'Bwd.Avg.Bytes.Bulk',\n",
       "       'Bwd.Avg.Packets.Bulk', 'Bwd.Avg.Bulk.Rate', 'Subflow.Fwd.Packets',\n",
       "       'Subflow.Fwd.Bytes', 'Subflow.Bwd.Packets', 'Subflow.Bwd.Bytes',\n",
       "       'Init_Win_bytes_forward', 'Init_Win_bytes_backward', 'act_data_pkt_fwd',\n",
       "       'min_seg_size_forward', 'Active.Max', 'Active.Min', 'Idle.Max',\n",
       "       'Idle.Min', 'L7Protocol'],\n",
       "      dtype='object')"
      ]
     },
     "execution_count": 24,
     "metadata": {},
     "output_type": "execute_result"
    }
   ],
   "source": [
    "df1.columns[df1.dtypes=='int64']"
   ]
  },
  {
   "cell_type": "code",
   "execution_count": 27,
   "id": "593da35f",
   "metadata": {},
   "outputs": [
    {
     "data": {
      "text/plain": [
       "Index(['Fwd.Packet.Length.Mean', 'Fwd.Packet.Length.Std',\n",
       "       'Bwd.Packet.Length.Mean', 'Bwd.Packet.Length.Std', 'Flow.Bytes.s',\n",
       "       'Flow.Packets.s', 'Flow.IAT.Mean', 'Flow.IAT.Std', 'Fwd.IAT.Mean',\n",
       "       'Fwd.IAT.Std', 'Bwd.IAT.Mean', 'Bwd.IAT.Std', 'Fwd.Packets.s',\n",
       "       'Bwd.Packets.s', 'Packet.Length.Mean', 'Packet.Length.Std',\n",
       "       'Packet.Length.Variance', 'Average.Packet.Size', 'Avg.Fwd.Segment.Size',\n",
       "       'Avg.Bwd.Segment.Size', 'Active.Mean', 'Active.Std', 'Idle.Mean',\n",
       "       'Idle.Std'],\n",
       "      dtype='object')"
      ]
     },
     "execution_count": 27,
     "metadata": {},
     "output_type": "execute_result"
    }
   ],
   "source": [
    "df1.columns[df1.dtypes=='float64']"
   ]
  },
  {
   "cell_type": "code",
   "execution_count": null,
   "id": "85067837",
   "metadata": {},
   "outputs": [],
   "source": []
  }
 ],
 "metadata": {
  "kernelspec": {
   "display_name": "Python 3",
   "language": "python",
   "name": "python3"
  },
  "language_info": {
   "codemirror_mode": {
    "name": "ipython",
    "version": 3
   },
   "file_extension": ".py",
   "mimetype": "text/x-python",
   "name": "python",
   "nbconvert_exporter": "python",
   "pygments_lexer": "ipython3",
   "version": "3.8.11"
  }
 },
 "nbformat": 4,
 "nbformat_minor": 5
}
